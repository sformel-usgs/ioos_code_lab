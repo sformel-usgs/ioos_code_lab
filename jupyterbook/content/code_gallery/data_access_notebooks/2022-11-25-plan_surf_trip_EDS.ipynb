{
 "cells": [
  {
   "cell_type": "markdown",
   "metadata": {},
   "source": [
    "# Planning a surf trip using IOOS EDS Model Viewer\n",
    "\n",
    "Created: 2022-11-25\n",
    "\n",
    "Updated: 2022-11-25\n",
    "\n",
    "Author: [Mathew Biddle](mailto:mathew.biddle@noaa.gov)"
   ]
  },
  {
   "cell_type": "markdown",
   "metadata": {},
   "source": [
    "1. Look at significant wave height forecast for MD coast (38.2101 °N 75.0867 °W). Look for significant wave heights >1m or some significant increase to narrow down the investigation. This will get you to a 12-24 hour window typically.\n",
    "   * Resources in EDS include:\n",
    "     * Wave Watch III (WW3) WW3 Wave Hgt @ NOAA WW3 Wave Height\n",
    "     * GFS-Wave WW3 Atlantic Height @ NOAA GFS-Wave Atlantic Wave Height https://eds.ioos.us/thredds/catalog/ioos/gfswave/global/catalog.html\n",
    "     * The Nearshore Wave Prediction System (NWPS) Chesapeake NWPS AKQ Wave Hgt @ NOAA NWPS Chesapeake Wave Height - https://eds.ioos.us/thredds/catalog/ioos/nwps/akq/catalog.html\n",
    "1. Once you find a blip in wave heights, take a look at wave periods in that time period to see if it's just a storm or a decent offshore swell. Typically periods >5 seconds is a good start. That should get you down to a 12 hour window where it might be decent to surf.\n",
    "1. Next look at the forecasted wave direction and wind direction/speed. Lots of nuances in these two pieces as wind direction could be bad (onshore) but if speeds are low it could be alright. If wind direction good (offshore) but winds are strong, could be tricky. wave direction informs which spots would catch the swell. Not many features on MD coast (barrier island), so direction not as important. This should get you to a 6 hour'ish window.\n",
    "1. Finally, look at tides and water temp (wetsuit or trunks?), sunrise, sunset times.\n",
    "1. Run this process every hour leading up to the event - forecast will get more accurate the closer to the event. I will start looking at real-time buoy obs ~12 hours before the event."
   ]
  },
  {
   "cell_type": "code",
   "execution_count": 2,
   "metadata": {},
   "outputs": [],
   "source": [
    "from siphon.catalog import TDSCatalog\n",
    "import matplotlib.pyplot as plt\n",
    "import numpy as np\n",
    "import ipywidgets as widgets"
   ]
  },
  {
   "cell_type": "markdown",
   "metadata": {},
   "source": [
    "# GFS WW3"
   ]
  },
  {
   "cell_type": "code",
   "execution_count": 6,
   "metadata": {},
   "outputs": [],
   "source": [
    "catUrl = \"https://eds.ioos.us/thredds/catalog/ioos/gfswave/global/latest.xml\"\n",
    "datasetName = \"GFS Wave Global 25km-2022-11-25\""
   ]
  },
  {
   "cell_type": "markdown",
   "metadata": {},
   "source": [
    "### Access a dataset\n",
    "With the TDS catalog url, we can use Siphon to get the dataset named `datasetName`."
   ]
  },
  {
   "cell_type": "code",
   "execution_count": 7,
   "metadata": {},
   "outputs": [],
   "source": [
    "catalog = TDSCatalog(catUrl)"
   ]
  },
  {
   "cell_type": "code",
   "execution_count": 8,
   "metadata": {},
   "outputs": [
    {
     "data": {
      "text/plain": [
       "['GFS Wave Global 25km-2022-11-25', 'gfswave.global.0p25.2022112506.f384.grib2', 'gfswave.global.0p25.2022112506.f381.grib2', 'gfswave.global.0p25.2022112506.f378.grib2', 'gfswave.global.0p25.2022112506.f375.grib2', 'gfswave.global.0p25.2022112506.f372.grib2', 'gfswave.global.0p25.2022112506.f369.grib2', 'gfswave.global.0p25.2022112506.f366.grib2', 'gfswave.global.0p25.2022112506.f363.grib2', 'gfswave.global.0p25.2022112506.f360.grib2', 'gfswave.global.0p25.2022112506.f357.grib2', 'gfswave.global.0p25.2022112506.f354.grib2', 'gfswave.global.0p25.2022112506.f351.grib2', 'gfswave.global.0p25.2022112506.f348.grib2', 'gfswave.global.0p25.2022112506.f345.grib2', 'gfswave.global.0p25.2022112506.f342.grib2', 'gfswave.global.0p25.2022112506.f339.grib2', 'gfswave.global.0p25.2022112506.f336.grib2', 'gfswave.global.0p25.2022112506.f333.grib2', 'gfswave.global.0p25.2022112506.f330.grib2', 'gfswave.global.0p25.2022112506.f327.grib2', 'gfswave.global.0p25.2022112506.f324.grib2', 'gfswave.global.0p25.2022112506.f321.grib2', 'gfswave.global.0p25.2022112506.f318.grib2', 'gfswave.global.0p25.2022112506.f315.grib2', 'gfswave.global.0p25.2022112506.f312.grib2', 'gfswave.global.0p25.2022112506.f309.grib2', 'gfswave.global.0p25.2022112506.f306.grib2', 'gfswave.global.0p25.2022112506.f303.grib2', 'gfswave.global.0p25.2022112506.f300.grib2', 'gfswave.global.0p25.2022112506.f297.grib2', 'gfswave.global.0p25.2022112506.f294.grib2', 'gfswave.global.0p25.2022112506.f291.grib2', 'gfswave.global.0p25.2022112506.f288.grib2', 'gfswave.global.0p25.2022112506.f285.grib2', 'gfswave.global.0p25.2022112506.f282.grib2', 'gfswave.global.0p25.2022112506.f279.grib2', 'gfswave.global.0p25.2022112506.f276.grib2', 'gfswave.global.0p25.2022112506.f273.grib2', 'gfswave.global.0p25.2022112506.f270.grib2', 'gfswave.global.0p25.2022112506.f267.grib2', 'gfswave.global.0p25.2022112506.f264.grib2', 'gfswave.global.0p25.2022112506.f261.grib2', 'gfswave.global.0p25.2022112506.f258.grib2', 'gfswave.global.0p25.2022112506.f255.grib2', 'gfswave.global.0p25.2022112506.f252.grib2', 'gfswave.global.0p25.2022112506.f249.grib2', 'gfswave.global.0p25.2022112506.f246.grib2', 'gfswave.global.0p25.2022112506.f243.grib2', 'gfswave.global.0p25.2022112506.f240.grib2', 'gfswave.global.0p25.2022112506.f237.grib2', 'gfswave.global.0p25.2022112506.f234.grib2', 'gfswave.global.0p25.2022112506.f231.grib2', 'gfswave.global.0p25.2022112506.f228.grib2', 'gfswave.global.0p25.2022112506.f225.grib2', 'gfswave.global.0p25.2022112506.f222.grib2', 'gfswave.global.0p25.2022112506.f219.grib2', 'gfswave.global.0p25.2022112506.f216.grib2', 'gfswave.global.0p25.2022112506.f213.grib2', 'gfswave.global.0p25.2022112506.f210.grib2', 'gfswave.global.0p25.2022112506.f207.grib2', 'gfswave.global.0p25.2022112506.f204.grib2', 'gfswave.global.0p25.2022112506.f201.grib2', 'gfswave.global.0p25.2022112506.f198.grib2', 'gfswave.global.0p25.2022112506.f195.grib2', 'gfswave.global.0p25.2022112506.f192.grib2', 'gfswave.global.0p25.2022112506.f189.grib2', 'gfswave.global.0p25.2022112506.f186.grib2', 'gfswave.global.0p25.2022112506.f183.grib2', 'gfswave.global.0p25.2022112506.f180.grib2', 'gfswave.global.0p25.2022112506.f177.grib2', 'gfswave.global.0p25.2022112506.f174.grib2', 'gfswave.global.0p25.2022112506.f171.grib2', 'gfswave.global.0p25.2022112506.f168.grib2', 'gfswave.global.0p25.2022112506.f165.grib2', 'gfswave.global.0p25.2022112506.f162.grib2', 'gfswave.global.0p25.2022112506.f159.grib2', 'gfswave.global.0p25.2022112506.f156.grib2', 'gfswave.global.0p25.2022112506.f153.grib2', 'gfswave.global.0p25.2022112506.f150.grib2', 'gfswave.global.0p25.2022112506.f147.grib2', 'gfswave.global.0p25.2022112506.f144.grib2', 'gfswave.global.0p25.2022112506.f141.grib2', 'gfswave.global.0p25.2022112506.f138.grib2', 'gfswave.global.0p25.2022112506.f135.grib2', 'gfswave.global.0p25.2022112506.f132.grib2', 'gfswave.global.0p25.2022112506.f129.grib2', 'gfswave.global.0p25.2022112506.f126.grib2', 'gfswave.global.0p25.2022112506.f123.grib2', 'gfswave.global.0p25.2022112506.f120.grib2', 'gfswave.global.0p25.2022112506.f119.grib2', 'gfswave.global.0p25.2022112506.f118.grib2', 'gfswave.global.0p25.2022112506.f117.grib2', 'gfswave.global.0p25.2022112506.f116.grib2', 'gfswave.global.0p25.2022112506.f115.grib2', 'gfswave.global.0p25.2022112506.f114.grib2', 'gfswave.global.0p25.2022112506.f113.grib2', 'gfswave.global.0p25.2022112506.f112.grib2', 'gfswave.global.0p25.2022112506.f111.grib2', 'gfswave.global.0p25.2022112506.f110.grib2', 'gfswave.global.0p25.2022112506.f109.grib2', 'gfswave.global.0p25.2022112506.f108.grib2', 'gfswave.global.0p25.2022112506.f107.grib2', 'gfswave.global.0p25.2022112506.f106.grib2', 'gfswave.global.0p25.2022112506.f105.grib2', 'gfswave.global.0p25.2022112506.f104.grib2', 'gfswave.global.0p25.2022112506.f103.grib2', 'gfswave.global.0p25.2022112506.f102.grib2', 'gfswave.global.0p25.2022112506.f101.grib2', 'gfswave.global.0p25.2022112506.f100.grib2', 'gfswave.global.0p25.2022112506.f099.grib2', 'gfswave.global.0p25.2022112506.f098.grib2', 'gfswave.global.0p25.2022112506.f097.grib2', 'gfswave.global.0p25.2022112506.f096.grib2', 'gfswave.global.0p25.2022112506.f095.grib2', 'gfswave.global.0p25.2022112506.f094.grib2', 'gfswave.global.0p25.2022112506.f093.grib2', 'gfswave.global.0p25.2022112506.f092.grib2', 'gfswave.global.0p25.2022112506.f091.grib2', 'gfswave.global.0p25.2022112506.f090.grib2', 'gfswave.global.0p25.2022112506.f089.grib2', 'gfswave.global.0p25.2022112506.f088.grib2', 'gfswave.global.0p25.2022112506.f087.grib2', 'gfswave.global.0p25.2022112506.f086.grib2', 'gfswave.global.0p25.2022112506.f085.grib2', 'gfswave.global.0p25.2022112506.f084.grib2', 'gfswave.global.0p25.2022112506.f083.grib2', 'gfswave.global.0p25.2022112506.f082.grib2', 'gfswave.global.0p25.2022112506.f081.grib2', 'gfswave.global.0p25.2022112506.f080.grib2', 'gfswave.global.0p25.2022112506.f079.grib2', 'gfswave.global.0p25.2022112506.f078.grib2', 'gfswave.global.0p25.2022112506.f077.grib2', 'gfswave.global.0p25.2022112506.f076.grib2', 'gfswave.global.0p25.2022112506.f075.grib2', 'gfswave.global.0p25.2022112506.f074.grib2', 'gfswave.global.0p25.2022112506.f073.grib2', 'gfswave.global.0p25.2022112506.f072.grib2', 'gfswave.global.0p25.2022112506.f071.grib2', 'gfswave.global.0p25.2022112506.f070.grib2', 'gfswave.global.0p25.2022112506.f069.grib2', 'gfswave.global.0p25.2022112506.f068.grib2', 'gfswave.global.0p25.2022112506.f067.grib2', 'gfswave.global.0p25.2022112506.f066.grib2', 'gfswave.global.0p25.2022112506.f065.grib2', 'gfswave.global.0p25.2022112506.f064.grib2', 'gfswave.global.0p25.2022112506.f063.grib2', 'gfswave.global.0p25.2022112506.f062.grib2', 'gfswave.global.0p25.2022112506.f061.grib2', 'gfswave.global.0p25.2022112506.f060.grib2', 'gfswave.global.0p25.2022112506.f059.grib2', 'gfswave.global.0p25.2022112506.f058.grib2', 'gfswave.global.0p25.2022112506.f057.grib2', 'gfswave.global.0p25.2022112506.f056.grib2', 'gfswave.global.0p25.2022112506.f055.grib2', 'gfswave.global.0p25.2022112506.f054.grib2', 'gfswave.global.0p25.2022112506.f053.grib2', 'gfswave.global.0p25.2022112506.f052.grib2', 'gfswave.global.0p25.2022112506.f051.grib2', 'gfswave.global.0p25.2022112506.f050.grib2', 'gfswave.global.0p25.2022112506.f049.grib2', 'gfswave.global.0p25.2022112506.f048.grib2', 'gfswave.global.0p25.2022112506.f047.grib2', 'gfswave.global.0p25.2022112506.f046.grib2', 'gfswave.global.0p25.2022112506.f045.grib2', 'gfswave.global.0p25.2022112506.f044.grib2', 'gfswave.global.0p25.2022112506.f043.grib2', 'gfswave.global.0p25.2022112506.f042.grib2', 'gfswave.global.0p25.2022112506.f041.grib2', 'gfswave.global.0p25.2022112506.f040.grib2', 'gfswave.global.0p25.2022112506.f039.grib2', 'gfswave.global.0p25.2022112506.f038.grib2', 'gfswave.global.0p25.2022112506.f037.grib2', 'gfswave.global.0p25.2022112506.f036.grib2', 'gfswave.global.0p25.2022112506.f035.grib2', 'gfswave.global.0p25.2022112506.f034.grib2', 'gfswave.global.0p25.2022112506.f033.grib2', 'gfswave.global.0p25.2022112506.f032.grib2', 'gfswave.global.0p25.2022112506.f031.grib2', 'gfswave.global.0p25.2022112506.f030.grib2', 'gfswave.global.0p25.2022112506.f029.grib2', 'gfswave.global.0p25.2022112506.f028.grib2', 'gfswave.global.0p25.2022112506.f027.grib2', 'gfswave.global.0p25.2022112506.f026.grib2', 'gfswave.global.0p25.2022112506.f025.grib2', 'gfswave.global.0p25.2022112506.f024.grib2', 'gfswave.global.0p25.2022112506.f023.grib2', 'gfswave.global.0p25.2022112506.f022.grib2', 'gfswave.global.0p25.2022112506.f021.grib2', 'gfswave.global.0p25.2022112506.f020.grib2', 'gfswave.global.0p25.2022112506.f019.grib2', 'gfswave.global.0p25.2022112506.f018.grib2', 'gfswave.global.0p25.2022112506.f017.grib2', 'gfswave.global.0p25.2022112506.f016.grib2', 'gfswave.global.0p25.2022112506.f015.grib2', 'gfswave.global.0p25.2022112506.f014.grib2', 'gfswave.global.0p25.2022112506.f013.grib2', 'gfswave.global.0p25.2022112506.f012.grib2', 'gfswave.global.0p25.2022112506.f011.grib2', 'gfswave.global.0p25.2022112506.f010.grib2', 'gfswave.global.0p25.2022112506.f009.grib2', 'gfswave.global.0p25.2022112506.f008.grib2', 'gfswave.global.0p25.2022112506.f007.grib2', 'gfswave.global.0p25.2022112506.f006.grib2', 'gfswave.global.0p25.2022112506.f005.grib2', 'gfswave.global.0p25.2022112506.f004.grib2', 'gfswave.global.0p25.2022112506.f003.grib2', 'gfswave.global.0p25.2022112506.f002.grib2', 'gfswave.global.0p25.2022112506.f001.grib2', 'gfswave.global.0p25.2022112506.f000.grib2', 'gfswave.global.0p25.2022112500.f384.grib2', 'gfswave.global.0p25.2022112500.f381.grib2', 'gfswave.global.0p25.2022112500.f378.grib2', 'gfswave.global.0p25.2022112500.f375.grib2', 'gfswave.global.0p25.2022112500.f372.grib2', 'gfswave.global.0p25.2022112500.f369.grib2', 'gfswave.global.0p25.2022112500.f366.grib2', 'gfswave.global.0p25.2022112500.f363.grib2', 'gfswave.global.0p25.2022112500.f360.grib2', 'gfswave.global.0p25.2022112500.f357.grib2', 'gfswave.global.0p25.2022112500.f354.grib2', 'gfswave.global.0p25.2022112500.f351.grib2', 'gfswave.global.0p25.2022112500.f348.grib2', 'gfswave.global.0p25.2022112500.f345.grib2', 'gfswave.global.0p25.2022112500.f342.grib2', 'gfswave.global.0p25.2022112500.f339.grib2', 'gfswave.global.0p25.2022112500.f336.grib2', 'gfswave.global.0p25.2022112500.f333.grib2', 'gfswave.global.0p25.2022112500.f330.grib2', 'gfswave.global.0p25.2022112500.f327.grib2', 'gfswave.global.0p25.2022112500.f324.grib2', 'gfswave.global.0p25.2022112500.f321.grib2', 'gfswave.global.0p25.2022112500.f318.grib2', 'gfswave.global.0p25.2022112500.f315.grib2', 'gfswave.global.0p25.2022112500.f312.grib2', 'gfswave.global.0p25.2022112500.f309.grib2', 'gfswave.global.0p25.2022112500.f306.grib2', 'gfswave.global.0p25.2022112500.f303.grib2', 'gfswave.global.0p25.2022112500.f300.grib2', 'gfswave.global.0p25.2022112500.f297.grib2', 'gfswave.global.0p25.2022112500.f294.grib2', 'gfswave.global.0p25.2022112500.f291.grib2', 'gfswave.global.0p25.2022112500.f288.grib2', 'gfswave.global.0p25.2022112500.f285.grib2', 'gfswave.global.0p25.2022112500.f282.grib2', 'gfswave.global.0p25.2022112500.f279.grib2', 'gfswave.global.0p25.2022112500.f276.grib2', 'gfswave.global.0p25.2022112500.f273.grib2', 'gfswave.global.0p25.2022112500.f270.grib2', 'gfswave.global.0p25.2022112500.f267.grib2', 'gfswave.global.0p25.2022112500.f264.grib2', 'gfswave.global.0p25.2022112500.f261.grib2', 'gfswave.global.0p25.2022112500.f258.grib2', 'gfswave.global.0p25.2022112500.f255.grib2', 'gfswave.global.0p25.2022112500.f252.grib2', 'gfswave.global.0p25.2022112500.f249.grib2', 'gfswave.global.0p25.2022112500.f246.grib2', 'gfswave.global.0p25.2022112500.f243.grib2', 'gfswave.global.0p25.2022112500.f240.grib2', 'gfswave.global.0p25.2022112500.f237.grib2', 'gfswave.global.0p25.2022112500.f234.grib2', 'gfswave.global.0p25.2022112500.f231.grib2', 'gfswave.global.0p25.2022112500.f228.grib2', 'gfswave.global.0p25.2022112500.f225.grib2', 'gfswave.global.0p25.2022112500.f222.grib2', 'gfswave.global.0p25.2022112500.f219.grib2', 'gfswave.global.0p25.2022112500.f216.grib2', 'gfswave.global.0p25.2022112500.f213.grib2', 'gfswave.global.0p25.2022112500.f210.grib2', 'gfswave.global.0p25.2022112500.f207.grib2', 'gfswave.global.0p25.2022112500.f204.grib2', 'gfswave.global.0p25.2022112500.f201.grib2', 'gfswave.global.0p25.2022112500.f198.grib2', 'gfswave.global.0p25.2022112500.f195.grib2', 'gfswave.global.0p25.2022112500.f192.grib2', 'gfswave.global.0p25.2022112500.f189.grib2', 'gfswave.global.0p25.2022112500.f186.grib2', 'gfswave.global.0p25.2022112500.f183.grib2', 'gfswave.global.0p25.2022112500.f180.grib2', 'gfswave.global.0p25.2022112500.f177.grib2', 'gfswave.global.0p25.2022112500.f174.grib2', 'gfswave.global.0p25.2022112500.f171.grib2', 'gfswave.global.0p25.2022112500.f168.grib2', 'gfswave.global.0p25.2022112500.f165.grib2', 'gfswave.global.0p25.2022112500.f162.grib2', 'gfswave.global.0p25.2022112500.f159.grib2', 'gfswave.global.0p25.2022112500.f156.grib2', 'gfswave.global.0p25.2022112500.f153.grib2', 'gfswave.global.0p25.2022112500.f150.grib2', 'gfswave.global.0p25.2022112500.f147.grib2', 'gfswave.global.0p25.2022112500.f144.grib2', 'gfswave.global.0p25.2022112500.f141.grib2', 'gfswave.global.0p25.2022112500.f138.grib2', 'gfswave.global.0p25.2022112500.f135.grib2', 'gfswave.global.0p25.2022112500.f132.grib2', 'gfswave.global.0p25.2022112500.f129.grib2', 'gfswave.global.0p25.2022112500.f126.grib2', 'gfswave.global.0p25.2022112500.f123.grib2', 'gfswave.global.0p25.2022112500.f120.grib2', 'gfswave.global.0p25.2022112500.f119.grib2', 'gfswave.global.0p25.2022112500.f118.grib2', 'gfswave.global.0p25.2022112500.f117.grib2', 'gfswave.global.0p25.2022112500.f116.grib2', 'gfswave.global.0p25.2022112500.f115.grib2', 'gfswave.global.0p25.2022112500.f114.grib2', 'gfswave.global.0p25.2022112500.f113.grib2', 'gfswave.global.0p25.2022112500.f112.grib2', 'gfswave.global.0p25.2022112500.f111.grib2', 'gfswave.global.0p25.2022112500.f110.grib2', 'gfswave.global.0p25.2022112500.f109.grib2', 'gfswave.global.0p25.2022112500.f108.grib2', 'gfswave.global.0p25.2022112500.f107.grib2', 'gfswave.global.0p25.2022112500.f106.grib2', 'gfswave.global.0p25.2022112500.f105.grib2', 'gfswave.global.0p25.2022112500.f104.grib2', 'gfswave.global.0p25.2022112500.f103.grib2', 'gfswave.global.0p25.2022112500.f102.grib2', 'gfswave.global.0p25.2022112500.f101.grib2', 'gfswave.global.0p25.2022112500.f100.grib2', 'gfswave.global.0p25.2022112500.f099.grib2', 'gfswave.global.0p25.2022112500.f098.grib2', 'gfswave.global.0p25.2022112500.f097.grib2', 'gfswave.global.0p25.2022112500.f096.grib2', 'gfswave.global.0p25.2022112500.f095.grib2', 'gfswave.global.0p25.2022112500.f094.grib2', 'gfswave.global.0p25.2022112500.f093.grib2', 'gfswave.global.0p25.2022112500.f092.grib2', 'gfswave.global.0p25.2022112500.f091.grib2', 'gfswave.global.0p25.2022112500.f090.grib2', 'gfswave.global.0p25.2022112500.f089.grib2', 'gfswave.global.0p25.2022112500.f088.grib2', 'gfswave.global.0p25.2022112500.f087.grib2', 'gfswave.global.0p25.2022112500.f086.grib2', 'gfswave.global.0p25.2022112500.f085.grib2', 'gfswave.global.0p25.2022112500.f084.grib2', 'gfswave.global.0p25.2022112500.f083.grib2', 'gfswave.global.0p25.2022112500.f082.grib2', 'gfswave.global.0p25.2022112500.f081.grib2', 'gfswave.global.0p25.2022112500.f080.grib2', 'gfswave.global.0p25.2022112500.f079.grib2', 'gfswave.global.0p25.2022112500.f078.grib2', 'gfswave.global.0p25.2022112500.f077.grib2', 'gfswave.global.0p25.2022112500.f076.grib2', 'gfswave.global.0p25.2022112500.f075.grib2', 'gfswave.global.0p25.2022112500.f074.grib2', 'gfswave.global.0p25.2022112500.f073.grib2', 'gfswave.global.0p25.2022112500.f072.grib2', 'gfswave.global.0p25.2022112500.f071.grib2', 'gfswave.global.0p25.2022112500.f070.grib2', 'gfswave.global.0p25.2022112500.f069.grib2', 'gfswave.global.0p25.2022112500.f068.grib2', 'gfswave.global.0p25.2022112500.f067.grib2', 'gfswave.global.0p25.2022112500.f066.grib2', 'gfswave.global.0p25.2022112500.f065.grib2', 'gfswave.global.0p25.2022112500.f064.grib2', 'gfswave.global.0p25.2022112500.f063.grib2', 'gfswave.global.0p25.2022112500.f062.grib2', 'gfswave.global.0p25.2022112500.f061.grib2', 'gfswave.global.0p25.2022112500.f060.grib2', 'gfswave.global.0p25.2022112500.f059.grib2', 'gfswave.global.0p25.2022112500.f058.grib2', 'gfswave.global.0p25.2022112500.f057.grib2', 'gfswave.global.0p25.2022112500.f056.grib2', 'gfswave.global.0p25.2022112500.f055.grib2', 'gfswave.global.0p25.2022112500.f054.grib2', 'gfswave.global.0p25.2022112500.f053.grib2', 'gfswave.global.0p25.2022112500.f052.grib2', 'gfswave.global.0p25.2022112500.f051.grib2', 'gfswave.global.0p25.2022112500.f050.grib2', 'gfswave.global.0p25.2022112500.f049.grib2', 'gfswave.global.0p25.2022112500.f048.grib2', 'gfswave.global.0p25.2022112500.f047.grib2', 'gfswave.global.0p25.2022112500.f046.grib2', 'gfswave.global.0p25.2022112500.f045.grib2', 'gfswave.global.0p25.2022112500.f044.grib2', 'gfswave.global.0p25.2022112500.f043.grib2', 'gfswave.global.0p25.2022112500.f042.grib2', 'gfswave.global.0p25.2022112500.f041.grib2', 'gfswave.global.0p25.2022112500.f040.grib2', 'gfswave.global.0p25.2022112500.f039.grib2', 'gfswave.global.0p25.2022112500.f038.grib2', 'gfswave.global.0p25.2022112500.f037.grib2', 'gfswave.global.0p25.2022112500.f036.grib2', 'gfswave.global.0p25.2022112500.f035.grib2', 'gfswave.global.0p25.2022112500.f034.grib2', 'gfswave.global.0p25.2022112500.f033.grib2', 'gfswave.global.0p25.2022112500.f032.grib2', 'gfswave.global.0p25.2022112500.f031.grib2', 'gfswave.global.0p25.2022112500.f030.grib2', 'gfswave.global.0p25.2022112500.f029.grib2', 'gfswave.global.0p25.2022112500.f028.grib2', 'gfswave.global.0p25.2022112500.f027.grib2', 'gfswave.global.0p25.2022112500.f026.grib2', 'gfswave.global.0p25.2022112500.f025.grib2', 'gfswave.global.0p25.2022112500.f024.grib2', 'gfswave.global.0p25.2022112500.f023.grib2', 'gfswave.global.0p25.2022112500.f022.grib2', 'gfswave.global.0p25.2022112500.f021.grib2', 'gfswave.global.0p25.2022112500.f020.grib2', 'gfswave.global.0p25.2022112500.f019.grib2', 'gfswave.global.0p25.2022112500.f018.grib2', 'gfswave.global.0p25.2022112500.f017.grib2', 'gfswave.global.0p25.2022112500.f016.grib2', 'gfswave.global.0p25.2022112500.f015.grib2', 'gfswave.global.0p25.2022112500.f014.grib2', 'gfswave.global.0p25.2022112500.f013.grib2', 'gfswave.global.0p25.2022112500.f012.grib2', 'gfswave.global.0p25.2022112500.f011.grib2', 'gfswave.global.0p25.2022112500.f010.grib2', 'gfswave.global.0p25.2022112500.f009.grib2', 'gfswave.global.0p25.2022112500.f008.grib2', 'gfswave.global.0p25.2022112500.f007.grib2', 'gfswave.global.0p25.2022112500.f006.grib2', 'gfswave.global.0p25.2022112500.f005.grib2', 'gfswave.global.0p25.2022112500.f004.grib2', 'gfswave.global.0p25.2022112500.f003.grib2', 'gfswave.global.0p25.2022112500.f002.grib2', 'gfswave.global.0p25.2022112500.f001.grib2', 'gfswave.global.0p25.2022112500.f000.grib2']"
      ]
     },
     "execution_count": 8,
     "metadata": {},
     "output_type": "execute_result"
    }
   ],
   "source": [
    "catalog.datasets"
   ]
  },
  {
   "cell_type": "code",
   "execution_count": 9,
   "metadata": {},
   "outputs": [
    {
     "data": {
      "text/plain": [
       "'GFS Wave Global 25km-2022-11-25'"
      ]
     },
     "execution_count": 9,
     "metadata": {},
     "output_type": "execute_result"
    }
   ],
   "source": [
    "ds = catalog.datasets[datasetName]\n",
    "ds.name"
   ]
  },
  {
   "cell_type": "markdown",
   "metadata": {},
   "source": [
    "Datasets each have a set of access protocols:"
   ]
  },
  {
   "cell_type": "code",
   "execution_count": 19,
   "metadata": {},
   "outputs": [
    {
     "data": {
      "text/plain": [
       "{'HTTPServer': 'https://eds.ioos.us/thredds/fileServer/ioos/gfswave/global/GFS_Wave_Global_25km-2022-11-25'}"
      ]
     },
     "execution_count": 19,
     "metadata": {},
     "output_type": "execute_result"
    }
   ],
   "source": [
    "ds.access_urls"
   ]
  },
  {
   "cell_type": "code",
   "execution_count": 10,
   "metadata": {},
   "outputs": [
    {
     "data": {
      "text/plain": [
       "['HTTPServer']"
      ]
     },
     "execution_count": 10,
     "metadata": {},
     "output_type": "execute_result"
    }
   ],
   "source": [
    "list(ds.access_urls)"
   ]
  },
  {
   "cell_type": "markdown",
   "metadata": {},
   "source": [
    "Siphon's `remote-access` returns a `Dataset` object, which opens the remote dataset and provides access to its metadata:"
   ]
  },
  {
   "cell_type": "code",
   "execution_count": 11,
   "metadata": {},
   "outputs": [
    {
     "ename": "ValueError",
     "evalue": "OPENDAP is not available for this dataset",
     "output_type": "error",
     "traceback": [
      "\u001b[1;31m---------------------------------------------------------------------------\u001b[0m",
      "\u001b[1;31mKeyError\u001b[0m                                  Traceback (most recent call last)",
      "File \u001b[1;32m~\\programs\\Miniforge\\envs\\IOOS\\Lib\\site-packages\\siphon\\catalog.py:751\u001b[0m, in \u001b[0;36mDataset.access_with_service\u001b[1;34m(self, service, use_xarray)\u001b[0m\n\u001b[0;32m    750\u001b[0m \u001b[38;5;28;01mtry\u001b[39;00m:\n\u001b[1;32m--> 751\u001b[0m     \u001b[38;5;28;01mreturn\u001b[39;00m provider(\u001b[38;5;28;43mself\u001b[39;49m\u001b[38;5;241;43m.\u001b[39;49m\u001b[43maccess_urls\u001b[49m\u001b[43m[\u001b[49m\u001b[43mservice\u001b[49m\u001b[43m]\u001b[49m)\n\u001b[0;32m    752\u001b[0m \u001b[38;5;28;01mexcept\u001b[39;00m \u001b[38;5;167;01mKeyError\u001b[39;00m:\n",
      "File \u001b[1;32m~\\programs\\Miniforge\\envs\\IOOS\\Lib\\site-packages\\siphon\\catalog.py:221\u001b[0m, in \u001b[0;36mCaseInsensitiveDict.__getitem__\u001b[1;34m(self, key)\u001b[0m\n\u001b[0;32m    220\u001b[0m \u001b[38;5;124;03m\"\"\"Return value from case-insensitive lookup of ``key``.\"\"\"\u001b[39;00m\n\u001b[1;32m--> 221\u001b[0m \u001b[38;5;28;01mreturn\u001b[39;00m \u001b[38;5;28;43msuper\u001b[39;49m\u001b[43m(\u001b[49m\u001b[43mCaseInsensitiveDict\u001b[49m\u001b[43m,\u001b[49m\u001b[43m \u001b[49m\u001b[38;5;28;43mself\u001b[39;49m\u001b[43m)\u001b[49m\u001b[38;5;241;43m.\u001b[39;49m\u001b[38;5;21;43m__getitem__\u001b[39;49m\u001b[43m(\u001b[49m\u001b[43mCaseInsensitiveStr\u001b[49m\u001b[43m(\u001b[49m\u001b[43mkey\u001b[49m\u001b[43m)\u001b[49m\u001b[43m)\u001b[49m\n",
      "\u001b[1;31mKeyError\u001b[0m: 'OPENDAP'",
      "\nDuring handling of the above exception, another exception occurred:\n",
      "\u001b[1;31mValueError\u001b[0m                                Traceback (most recent call last)",
      "Cell \u001b[1;32mIn [11], line 1\u001b[0m\n\u001b[1;32m----> 1\u001b[0m dataset \u001b[38;5;241m=\u001b[39m \u001b[43mds\u001b[49m\u001b[38;5;241;43m.\u001b[39;49m\u001b[43mremote_access\u001b[49m\u001b[43m(\u001b[49m\u001b[43m)\u001b[49m\n",
      "File \u001b[1;32m~\\programs\\Miniforge\\envs\\IOOS\\Lib\\site-packages\\siphon\\catalog.py:668\u001b[0m, in \u001b[0;36mDataset.remote_access\u001b[1;34m(self, service, use_xarray)\u001b[0m\n\u001b[0;32m    665\u001b[0m \u001b[38;5;28;01mif\u001b[39;00m service \u001b[38;5;129;01mnot\u001b[39;00m \u001b[38;5;129;01min\u001b[39;00m (CaseInsensitiveStr(\u001b[38;5;124m'\u001b[39m\u001b[38;5;124mCdmRemote\u001b[39m\u001b[38;5;124m'\u001b[39m), CaseInsensitiveStr(\u001b[38;5;124m'\u001b[39m\u001b[38;5;124mOPENDAP\u001b[39m\u001b[38;5;124m'\u001b[39m)):\n\u001b[0;32m    666\u001b[0m     \u001b[38;5;28;01mraise\u001b[39;00m \u001b[38;5;167;01mValueError\u001b[39;00m(service \u001b[38;5;241m+\u001b[39m \u001b[38;5;124m'\u001b[39m\u001b[38;5;124m is not a valid service for remote_access\u001b[39m\u001b[38;5;124m'\u001b[39m)\n\u001b[1;32m--> 668\u001b[0m \u001b[38;5;28;01mreturn\u001b[39;00m \u001b[38;5;28;43mself\u001b[39;49m\u001b[38;5;241;43m.\u001b[39;49m\u001b[43maccess_with_service\u001b[49m\u001b[43m(\u001b[49m\u001b[43mservice\u001b[49m\u001b[43m,\u001b[49m\u001b[43m \u001b[49m\u001b[43muse_xarray\u001b[49m\u001b[43m)\u001b[49m\n",
      "File \u001b[1;32m~\\programs\\Miniforge\\envs\\IOOS\\Lib\\site-packages\\siphon\\catalog.py:753\u001b[0m, in \u001b[0;36mDataset.access_with_service\u001b[1;34m(self, service, use_xarray)\u001b[0m\n\u001b[0;32m    751\u001b[0m     \u001b[38;5;28;01mreturn\u001b[39;00m provider(\u001b[38;5;28mself\u001b[39m\u001b[38;5;241m.\u001b[39maccess_urls[service])\n\u001b[0;32m    752\u001b[0m \u001b[38;5;28;01mexcept\u001b[39;00m \u001b[38;5;167;01mKeyError\u001b[39;00m:\n\u001b[1;32m--> 753\u001b[0m     \u001b[38;5;28;01mraise\u001b[39;00m \u001b[38;5;167;01mValueError\u001b[39;00m(service \u001b[38;5;241m+\u001b[39m \u001b[38;5;124m'\u001b[39m\u001b[38;5;124m is not available for this dataset\u001b[39m\u001b[38;5;124m'\u001b[39m)\n",
      "\u001b[1;31mValueError\u001b[0m: OPENDAP is not available for this dataset"
     ]
    }
   ],
   "source": [
    "dataset = ds.remote_access()"
   ]
  },
  {
   "cell_type": "code",
   "execution_count": null,
   "metadata": {},
   "outputs": [],
   "source": [
    "list(dataset.ncattrs())"
   ]
  },
  {
   "cell_type": "markdown",
   "metadata": {},
   "source": [
    "### Display a variable:\n",
    "1) Create a widget to select from a list of all variables in this dataset.\n"
   ]
  },
  {
   "cell_type": "code",
   "execution_count": null,
   "metadata": {},
   "outputs": [],
   "source": [
    "var_name = widgets.RadioButtons(\n",
    "    options=list(dataset.variables),\n",
    "    description='Variable:')\n"
   ]
  },
  {
   "cell_type": "markdown",
   "metadata": {},
   "source": [
    "2) Run the cell below to display the widget.  \n",
    "3) Select the variable you wish to view."
   ]
  },
  {
   "cell_type": "code",
   "execution_count": null,
   "metadata": {},
   "outputs": [],
   "source": [
    "display(var_name)"
   ]
  },
  {
   "cell_type": "markdown",
   "metadata": {},
   "source": [
    "4) Display information about the chosen variable"
   ]
  },
  {
   "cell_type": "code",
   "execution_count": null,
   "metadata": {},
   "outputs": [],
   "source": [
    "var = dataset.variables[var_name.value];\n",
    "print(\"Name: \" + var.name);\n",
    "print(\"Dimensions: \" + str(list(var.dimensions)));\n",
    "print(\"Shape: \" + str(var.shape));\n",
    "import operator\n",
    "from functools import reduce\n",
    "nelems = reduce(operator.mul, var.shape, 1);\n",
    "print(\"# elements: \" + str(nelems));\n",
    "print(\"Datatype: \" + str(var.dtype));"
   ]
  },
  {
   "cell_type": "markdown",
   "metadata": {},
   "source": [
    "5) Attempt to plot the variable."
   ]
  },
  {
   "cell_type": "code",
   "execution_count": null,
   "metadata": {},
   "outputs": [],
   "source": [
    "# EDIT these values to print or plot fewer/more elements\n",
    "max_print_elems = 1000; # don't print more than this number of elements\n",
    "max_elems = 10000; # don't request more than this number of elements (<100M to avoid HTTP errors)\n",
    "\n",
    "# only atttempt to plot numeric types\n",
    "if (not(var.dtype == np.uint8 or np.can_cast(var.dtype, float, \"same_kind\"))):\n",
    "    print(\"Not a numeric type - cannot plot variable: \", var.name);\n",
    "    if (nelems > max_print_elems):\n",
    "        print(\"Too many elements - printing first \" + str(max_print_elems) + \" elements\");\n",
    "        var = var.flatten()[0:max_print_elems];\n",
    "        print(var);\n",
    "        \n",
    "else:\n",
    "    # assure plotable number of dimensions\n",
    "    ndims = len([s for s in var.shape if s > 1]);\n",
    "    max_dims = 2;\n",
    "    shape = np.array(var.shape);\n",
    "    if (ndims > max_dims):\n",
    "        print(\"Too many dimensions - reducing last \" + str(ndims-max_dims) + \" dimensions.\")\n",
    "        shape[np.argwhere(shape>1).flatten().tolist()[max_dims:]] = 1;\n",
    "        print(\"New shape: \" + str(shape))\n",
    "        ndims = max_dims;\n",
    "\n",
    "    # assure plotable number of elements   \n",
    "    nelems = reduce(operator.mul, shape, 1);\n",
    "    scale = (nelems/max_elems)**(1/ndims) if ndims else 0;\n",
    "    if (scale > 1):\n",
    "        print(\"Too many elements - subsetting variable\")\n",
    "        shape[np.argwhere(shape>1).flatten().tolist()] = shape[np.argwhere(shape>1).flatten().tolist()]//scale;\n",
    "        print(\"New shape: \" + str(shape));\n",
    "              \n",
    "    # EDIT indices variable to change the number/indices of plotted elements\n",
    "    to_slice = lambda x : slice(None, x, None)\n",
    "    indices = [to_slice(s) for s in shape]\n",
    "    \n",
    "    # make copy of (possible) subset of variable\n",
    "    disp_var = var[indices];\n",
    "\n",
    "    # plot the variable\n",
    "    %matplotlib inline\n",
    "    # for one-dimensional data, print value\n",
    "    if (ndims == 0):\n",
    "        print(var.name, \": \", disp_var)\n",
    "    # for two-dimensional data, make a line plot\n",
    "    elif (ndims == 1):\n",
    "        plt.plot(np.squeeze(np.array([range(len(np.squeeze(disp_var[:])))])), np.squeeze(disp_var[:]), 'bo', markersize=5)\n",
    "        plt.title(var.name)\n",
    "        plt.show()\n",
    "    # for three-dimensional data, make an image\n",
    "    elif (ndims == 2):\n",
    "        plt.imshow(np.squeeze(disp_var[:]))\n",
    "        plt.title(var.name)\n",
    "        plt.show()"
   ]
  },
  {
   "cell_type": "markdown",
   "metadata": {},
   "source": [
    "**Note** that data are only transferred over the network when the variable is sliced, and only data corresponding to the slice are downloaded. In this case, we are ask for a subset of the data with `disp_var = var[indices]`. You may change the values to `indices` to request a different subset of data.\n",
    "\n",
    "---"
   ]
  },
  {
   "cell_type": "markdown",
   "metadata": {},
   "source": [
    "6) To plot a different variable, select it in the widget and rerun the subsequent cells."
   ]
  },
  {
   "cell_type": "markdown",
   "metadata": {},
   "source": [
    "### More with Siphon\n",
    "To see what else you can do, view the [Siphon API](https://unidata.github.io/siphon/latest/api/index.html)."
   ]
  },
  {
   "cell_type": "code",
   "execution_count": null,
   "metadata": {},
   "outputs": [],
   "source": [
    "### Your code here ###"
   ]
  }
 ],
 "metadata": {
  "kernelspec": {
   "display_name": "Python 3 (ipykernel)",
   "language": "python",
   "name": "python3"
  },
  "language_info": {
   "codemirror_mode": {
    "name": "ipython",
    "version": 3
   },
   "file_extension": ".py",
   "mimetype": "text/x-python",
   "name": "python",
   "nbconvert_exporter": "python",
   "pygments_lexer": "ipython3",
   "version": "3.11.0"
  },
  "viewer_info": {
   "accepts": {},
   "description": "The TDS default viewer attempts to plot any Variable contained in the Dataset."
  }
 },
 "nbformat": 4,
 "nbformat_minor": 2
}
